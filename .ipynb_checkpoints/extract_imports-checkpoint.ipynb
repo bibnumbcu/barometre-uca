{
 "cells": [
  {
   "cell_type": "markdown",
   "metadata": {},
   "source": [
    "# Extraction des noms des modules importés dans un notebook\n",
    "\n",
    "La problématique est la suivante : des modules sont importés dans un notebook.\n",
    "\n",
    "Il s'agit d'extraire les noms des modules.\n",
    "\n",
    "La stratégie consiste à :\n",
    "- accéder aux cellules du notebook en parsant le fichier via la librairie `nbformat`\n",
    "- filtrer uniquement les cellules ou le terme \"import\" est présent\n",
    "- dans ces cellules, filtrer uniquement les lignes où le terme \"import\" est présent\n",
    "- afficher ces lignes et terminer à la main (option par manque de temps)"
   ]
  },
  {
   "cell_type": "code",
   "execution_count": null,
   "metadata": {},
   "outputs": [],
   "source": [
    "import nbformat"
   ]
  },
  {
   "cell_type": "code",
   "execution_count": null,
   "metadata": {},
   "outputs": [],
   "source": [
    "file_name = \"barometre_universite_lorraine.ipynb\"\n",
    "nb = nbformat.read(file_name, as_version=4)"
   ]
  },
  {
   "cell_type": "markdown",
   "metadata": {},
   "source": [
    "`nbformat` permet d'accéder au contenu du notebook via un dictionnaire dont les clefs sont standard : ce sont celles du schéma de données des notebooks jupyter (référencé par le numéro de version)"
   ]
  },
  {
   "cell_type": "code",
   "execution_count": null,
   "metadata": {},
   "outputs": [],
   "source": [
    "nb.keys()"
   ]
  },
  {
   "cell_type": "markdown",
   "metadata": {},
   "source": [
    "### Accéder à une premier cellule"
   ]
  },
  {
   "cell_type": "markdown",
   "metadata": {},
   "source": [
    "Il s'agit d'un dictionnaire à plusieurs niveaux :"
   ]
  },
  {
   "cell_type": "code",
   "execution_count": null,
   "metadata": {},
   "outputs": [],
   "source": [
    "nb[\"cells\"][0][\"source\"]"
   ]
  },
  {
   "cell_type": "markdown",
   "metadata": {},
   "source": [
    "### List comprehension\n",
    "\n",
    "Une \"list comprehension\" est une façon de construire une liste en une ligne.\n",
    "\n",
    "De la même manière que pour une boucle for il y a un partie pour le \"for\" et une partie pour chaque itération,\n",
    "\n",
    "la première partie entre les crochets est la partie correspondant à une itération, suivie par la partie pour le \"for\", sans \":\""
   ]
  },
  {
   "cell_type": "markdown",
   "metadata": {},
   "source": [
    "#### Liste à partir de range"
   ]
  },
  {
   "cell_type": "markdown",
   "metadata": {},
   "source": [
    "#### Version boucle for"
   ]
  },
  {
   "cell_type": "code",
   "execution_count": null,
   "metadata": {
    "jupyter": {
     "outputs_hidden": true
    }
   },
   "outputs": [],
   "source": [
    "for i in range(len(nb[\"cells\"])):\n",
    "    #print( # nécessaires pour le que la boucle fasse quelque chose mais à supprimer pour raisonner sur les list comprehensions\n",
    "        nb[\"cells\"][i][\"source\"]\n",
    "    #)"
   ]
  },
  {
   "cell_type": "markdown",
   "metadata": {},
   "source": [
    "#### Version list comprehension"
   ]
  },
  {
   "cell_type": "code",
   "execution_count": null,
   "metadata": {},
   "outputs": [],
   "source": [
    "cells_list = [nb[\"cells\"][i][\"source\"] for i in range(len(nb[\"cells\"]))]"
   ]
  },
  {
   "cell_type": "markdown",
   "metadata": {},
   "source": [
    "### Créer la dataframe"
   ]
  },
  {
   "cell_type": "code",
   "execution_count": null,
   "metadata": {},
   "outputs": [],
   "source": [
    "from pandas import DataFrame"
   ]
  },
  {
   "cell_type": "code",
   "execution_count": null,
   "metadata": {},
   "outputs": [],
   "source": [
    "cells_df = DataFrame(cells_list, columns=[\"cells\"])"
   ]
  },
  {
   "cell_type": "code",
   "execution_count": null,
   "metadata": {},
   "outputs": [],
   "source": [
    "cells_df.head(5)"
   ]
  },
  {
   "cell_type": "markdown",
   "metadata": {},
   "source": [
    "### Réalisation d'un masque\n",
    "\n",
    "Un masque est une DataFrame dont les cellules valent `True` si la condition était vérifée et `False` sinon"
   ]
  },
  {
   "cell_type": "code",
   "execution_count": null,
   "metadata": {},
   "outputs": [],
   "source": [
    "cells_df.cells"
   ]
  },
  {
   "cell_type": "markdown",
   "metadata": {},
   "source": [
    "La condition est de tester la présence de la chaîne de caractère \"import\", peu importe ce qui précède ou suit.\n",
    "\n",
    "La méthode `findall` permet de gérer les cellules du notebook qui ont plusieurs lignes et possiblement plusieurs imports"
   ]
  },
  {
   "cell_type": "code",
   "execution_count": null,
   "metadata": {},
   "outputs": [],
   "source": [
    "imports = cells_df.cells.str.findall(\".*import.*\")"
   ]
  },
  {
   "cell_type": "markdown",
   "metadata": {},
   "source": [
    "Le masque est construit en testant si la méthode `findall` a retourné une liste non-vide."
   ]
  },
  {
   "cell_type": "code",
   "execution_count": null,
   "metadata": {},
   "outputs": [],
   "source": [
    "mask_imports = imports.apply(len) > 0"
   ]
  },
  {
   "cell_type": "markdown",
   "metadata": {},
   "source": [
    "### Sélection de la sous dataframe"
   ]
  },
  {
   "cell_type": "code",
   "execution_count": null,
   "metadata": {},
   "outputs": [],
   "source": [
    "cells_df[mask_imports]"
   ]
  },
  {
   "cell_type": "markdown",
   "metadata": {},
   "source": [
    "### Index de cellules avec imports"
   ]
  },
  {
   "cell_type": "code",
   "execution_count": null,
   "metadata": {},
   "outputs": [],
   "source": [
    "list(cells_df[mask_imports].index)"
   ]
  },
  {
   "cell_type": "code",
   "execution_count": null,
   "metadata": {},
   "outputs": [],
   "source": [
    "from re import match"
   ]
  },
  {
   "cell_type": "markdown",
   "metadata": {},
   "source": [
    "Chaque cellule peut contenir plusieurs lignes, concaténées avec la présence de \"\\n\" entre deux lignes.\n",
    "\n",
    "Les cellules prises dans la première boucle for ont toutes la présence d'au moins un import,\n",
    "\n",
    "on exécute ensuite une deuxième boucle for "
   ]
  },
  {
   "cell_type": "code",
   "execution_count": null,
   "metadata": {},
   "outputs": [],
   "source": [
    "for index in list(cells_df[mask_imports].index):\n",
    "    \n",
    "    one_cell_with_at_least_one_import = cells_df[mask_imports].cells.loc[index]\n",
    "    lines_in_this_cell = one_cell_with_at_least_one_import.split(\"\\n\")\n",
    "    \n",
    "    for line in lines_in_this_cell:\n",
    "        if match(\".*import.*\", line):\n",
    "            print(line)"
   ]
  }
 ],
 "metadata": {
  "kernelspec": {
   "display_name": "Python 3",
   "language": "python",
   "name": "python3"
  },
  "language_info": {
   "codemirror_mode": {
    "name": "ipython",
    "version": 3
   },
   "file_extension": ".py",
   "mimetype": "text/x-python",
   "name": "python",
   "nbconvert_exporter": "python",
   "pygments_lexer": "ipython3"
  }
 },
 "nbformat": 4,
 "nbformat_minor": 4
}
