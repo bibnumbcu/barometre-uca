{
 "cells": [
  {
   "cell_type": "markdown",
   "metadata": {},
   "source": [
    "# Appliquer le code du Baromètre de la Science Ouverte aux données de l'Université de Lorraine"
   ]
  },
  {
   "cell_type": "markdown",
   "metadata": {},
   "source": [
    "## Importer les scripts"
   ]
  },
  {
   "cell_type": "markdown",
   "metadata": {},
   "source": [
    "Adresse :  https://github.com/MinistereSupRecherche/bso\n",
    "\n",
    "Copier dans son propre répertoire les fichiers \"scanr_utils.py\" et \"unpwaywall_utils.py\""
   ]
  },
  {
   "cell_type": "code",
   "execution_count": 1,
   "metadata": {},
   "outputs": [],
   "source": [
    "from scanr_utils import *\n",
    "from unpwaywall_utils import *"
   ]
  },
  {
   "cell_type": "markdown",
   "metadata": {},
   "source": [
    "## Importer dans le notebook les données lorraines préalablement traitées"
   ]
  },
  {
   "cell_type": "code",
   "execution_count": 2,
   "metadata": {},
   "outputs": [],
   "source": [
    "with open(\"Data/outputs/doi_lorraine\") as f:\n",
    "    doi_lorraine_str = f.read()"
   ]
  },
  {
   "cell_type": "code",
   "execution_count": 3,
   "metadata": {},
   "outputs": [],
   "source": [
    "doi_lorraine_df = pd.read_csv(\"Data/outputs/doi_lorraine\",sep=\"\\t\")"
   ]
  },
  {
   "cell_type": "code",
   "execution_count": 4,
   "metadata": {},
   "outputs": [
    {
     "data": {
      "text/html": [
       "<div>\n",
       "<style scoped>\n",
       "    .dataframe tbody tr th:only-of-type {\n",
       "        vertical-align: middle;\n",
       "    }\n",
       "\n",
       "    .dataframe tbody tr th {\n",
       "        vertical-align: top;\n",
       "    }\n",
       "\n",
       "    .dataframe thead th {\n",
       "        text-align: right;\n",
       "    }\n",
       "</style>\n",
       "<table border=\"1\" class=\"dataframe\">\n",
       "  <thead>\n",
       "    <tr style=\"text-align: right;\">\n",
       "      <th></th>\n",
       "      <th>doi</th>\n",
       "    </tr>\n",
       "  </thead>\n",
       "  <tbody>\n",
       "    <tr>\n",
       "      <td>0</td>\n",
       "      <td>10.1016/j.chemgeo.2016.10.031</td>\n",
       "    </tr>\n",
       "    <tr>\n",
       "      <td>1</td>\n",
       "      <td>10.1186/s13601-016-0137-4</td>\n",
       "    </tr>\n",
       "    <tr>\n",
       "      <td>2</td>\n",
       "      <td>10.1371/journal.pone.0168349</td>\n",
       "    </tr>\n",
       "    <tr>\n",
       "      <td>3</td>\n",
       "      <td>10.1016/j.jpowsour.2016.10.037</td>\n",
       "    </tr>\n",
       "    <tr>\n",
       "      <td>4</td>\n",
       "      <td>10.1016/j.jpowsour.2016.10.035</td>\n",
       "    </tr>\n",
       "    <tr>\n",
       "      <td>...</td>\n",
       "      <td>...</td>\n",
       "    </tr>\n",
       "    <tr>\n",
       "      <td>15751</td>\n",
       "      <td>10.1002/9781119427896.ch8</td>\n",
       "    </tr>\n",
       "    <tr>\n",
       "      <td>15752</td>\n",
       "      <td>10.1107/s1600576719014055</td>\n",
       "    </tr>\n",
       "    <tr>\n",
       "      <td>15753</td>\n",
       "      <td>10.1007/s00220-019-03431-6</td>\n",
       "    </tr>\n",
       "    <tr>\n",
       "      <td>15754</td>\n",
       "      <td>10.1111/1365-2478.12904</td>\n",
       "    </tr>\n",
       "    <tr>\n",
       "      <td>15755</td>\n",
       "      <td>10.1163/24689300-05201007</td>\n",
       "    </tr>\n",
       "  </tbody>\n",
       "</table>\n",
       "<p>15756 rows × 1 columns</p>\n",
       "</div>"
      ],
      "text/plain": [
       "                                  doi\n",
       "0       10.1016/j.chemgeo.2016.10.031\n",
       "1           10.1186/s13601-016-0137-4\n",
       "2        10.1371/journal.pone.0168349\n",
       "3      10.1016/j.jpowsour.2016.10.037\n",
       "4      10.1016/j.jpowsour.2016.10.035\n",
       "...                               ...\n",
       "15751       10.1002/9781119427896.ch8\n",
       "15752       10.1107/s1600576719014055\n",
       "15753      10.1007/s00220-019-03431-6\n",
       "15754         10.1111/1365-2478.12904\n",
       "15755       10.1163/24689300-05201007\n",
       "\n",
       "[15756 rows x 1 columns]"
      ]
     },
     "execution_count": 4,
     "metadata": {},
     "output_type": "execute_result"
    }
   ],
   "source": [
    "doi_lorraine_df"
   ]
  },
  {
   "cell_type": "markdown",
   "metadata": {},
   "source": [
    "## Enrichissement avec l'API Unpaywall"
   ]
  },
  {
   "cell_type": "markdown",
   "metadata": {},
   "source": [
    "Ajoute à la liste de DOI constituée précédemment toutes les informations comprises dans l'API Unpaywall : titre, année, statut d'open access... **Attention, le processus peut prendre plusieurs heures**"
   ]
  },
  {
   "cell_type": "code",
   "execution_count": null,
   "metadata": {},
   "outputs": [],
   "source": [
    "publis_lorraine_oa_status = enrich_with_upw_status(doi_lorraine_df)\n",
    "publis_lorraine_oa_status\n",
    "publis_lorraine_oa_status.to_csv(\"Data/outputs/publis_lorraine_oa_status\",index=False)"
   ]
  },
  {
   "cell_type": "markdown",
   "metadata": {},
   "source": [
    "Capturer le résultat pour ne pas avoir à refaire ce travail plusieurs fois"
   ]
  },
  {
   "cell_type": "code",
   "execution_count": 5,
   "metadata": {},
   "outputs": [],
   "source": [
    "publis_lorraine_oa_status = pd.read_csv(\"Data/outputs/publis_lorraine_oa_status\")"
   ]
  },
  {
   "cell_type": "markdown",
   "metadata": {},
   "source": [
    "## Ajouter à la DataFrame le champ \"scientific field\" pour ajouter le domaine pour chaque DOI grâce au jeu de données du Baromètre"
   ]
  },
  {
   "cell_type": "markdown",
   "metadata": {},
   "source": [
    "Le jeu de données est disponible à cette adresse : https://data.enseignementsup-recherche.gouv.fr/explore/dataset/open-access-monitor-france/export/?disjunctive.oa_host_type&disjunctive.year\n",
    "\n",
    "Il faut le télécharger chaque année et le placer au même endroit (Data_bibliometrie -> raw) pour mettre à jour les données."
   ]
  },
  {
   "cell_type": "markdown",
   "metadata": {},
   "source": [
    "### Lire le jeu de données du Baromètre"
   ]
  },
  {
   "cell_type": "code",
   "execution_count": 6,
   "metadata": {},
   "outputs": [],
   "source": [
    "with open(\"Data/raw/open-access-monitor-france.csv\", encoding='utf-8') as f:\n",
    "    open_access_monitor_france_str = f.read()"
   ]
  },
  {
   "cell_type": "code",
   "execution_count": 7,
   "metadata": {},
   "outputs": [],
   "source": [
    "open_access_monitor_france_df = pd.read_csv(\"Data/raw/open-access-monitor-france.csv\", encoding='utf-8',sep=\";\")"
   ]
  },
  {
   "cell_type": "markdown",
   "metadata": {},
   "source": [
    "### Fusionner la DataFrame Lorraine et le jeu de données du Baromètre sur le critère du DOI pour ajouter le champ \"scientific field\""
   ]
  },
  {
   "cell_type": "code",
   "execution_count": 8,
   "metadata": {},
   "outputs": [],
   "source": [
    "df_complete = pd.merge(publis_lorraine_oa_status, open_access_monitor_france_df[['doi', 'scientific_field']], how=\"left\", on=\"doi\")\n",
    "df_complete['scientific_field'].fillna('unknown', inplace = True)"
   ]
  },
  {
   "cell_type": "code",
   "execution_count": 9,
   "metadata": {},
   "outputs": [
    {
     "data": {
      "text/html": [
       "<div>\n",
       "<style scoped>\n",
       "    .dataframe tbody tr th:only-of-type {\n",
       "        vertical-align: middle;\n",
       "    }\n",
       "\n",
       "    .dataframe tbody tr th {\n",
       "        vertical-align: top;\n",
       "    }\n",
       "\n",
       "    .dataframe thead th {\n",
       "        text-align: right;\n",
       "    }\n",
       "</style>\n",
       "<table border=\"1\" class=\"dataframe\">\n",
       "  <thead>\n",
       "    <tr style=\"text-align: right;\">\n",
       "      <th></th>\n",
       "      <th>doi</th>\n",
       "      <th>oa_type</th>\n",
       "      <th>is_oa</th>\n",
       "      <th>title</th>\n",
       "      <th>published_date</th>\n",
       "      <th>published_year</th>\n",
       "      <th>genre</th>\n",
       "      <th>journal_is_in_doaj</th>\n",
       "      <th>journal_issns</th>\n",
       "      <th>journal_name</th>\n",
       "      <th>publisher</th>\n",
       "      <th>scientific_field</th>\n",
       "    </tr>\n",
       "  </thead>\n",
       "  <tbody>\n",
       "    <tr>\n",
       "      <td>0</td>\n",
       "      <td>10.1016/j.chemgeo.2016.10.031</td>\n",
       "      <td>closed</td>\n",
       "      <td>False</td>\n",
       "      <td>Zinc isotope fractionation during adsorption t...</td>\n",
       "      <td>2016-12-01</td>\n",
       "      <td>2016.0</td>\n",
       "      <td>journal-article</td>\n",
       "      <td>False</td>\n",
       "      <td>0009-2541</td>\n",
       "      <td>Chemical Geology</td>\n",
       "      <td>Elsevier BV</td>\n",
       "      <td>unknown</td>\n",
       "    </tr>\n",
       "    <tr>\n",
       "      <td>1</td>\n",
       "      <td>10.1186/s13601-016-0137-4</td>\n",
       "      <td>publisher;repository</td>\n",
       "      <td>True</td>\n",
       "      <td>ARIA 2016: Care pathways implementing emerging...</td>\n",
       "      <td>2016-12-01</td>\n",
       "      <td>2016.0</td>\n",
       "      <td>journal-article</td>\n",
       "      <td>True</td>\n",
       "      <td>2045-7022</td>\n",
       "      <td>Clinical and Translational Allergy</td>\n",
       "      <td>Springer Science and Business Media LLC</td>\n",
       "      <td>Medical research</td>\n",
       "    </tr>\n",
       "    <tr>\n",
       "      <td>2</td>\n",
       "      <td>10.1371/journal.pone.0168349</td>\n",
       "      <td>publisher;repository</td>\n",
       "      <td>True</td>\n",
       "      <td>Prediction of Left Ventricular Remodeling afte...</td>\n",
       "      <td>2016-12-30</td>\n",
       "      <td>2016.0</td>\n",
       "      <td>journal-article</td>\n",
       "      <td>True</td>\n",
       "      <td>1932-6203</td>\n",
       "      <td>PLOS ONE</td>\n",
       "      <td>Public Library of Science (PLoS)</td>\n",
       "      <td>Medical research</td>\n",
       "    </tr>\n",
       "    <tr>\n",
       "      <td>3</td>\n",
       "      <td>10.1016/j.jpowsour.2016.10.037</td>\n",
       "      <td>closed</td>\n",
       "      <td>False</td>\n",
       "      <td>A critical review on gas diffusion micro and m...</td>\n",
       "      <td>2016-12-01</td>\n",
       "      <td>2016.0</td>\n",
       "      <td>journal-article</td>\n",
       "      <td>False</td>\n",
       "      <td>0378-7753</td>\n",
       "      <td>Journal of Power Sources</td>\n",
       "      <td>Elsevier BV</td>\n",
       "      <td>Engineering</td>\n",
       "    </tr>\n",
       "    <tr>\n",
       "      <td>4</td>\n",
       "      <td>10.1016/j.jpowsour.2016.10.035</td>\n",
       "      <td>closed</td>\n",
       "      <td>False</td>\n",
       "      <td>Decohesion and rupture mechanisms of a multila...</td>\n",
       "      <td>2016-12-01</td>\n",
       "      <td>2016.0</td>\n",
       "      <td>journal-article</td>\n",
       "      <td>False</td>\n",
       "      <td>0378-7753</td>\n",
       "      <td>Journal of Power Sources</td>\n",
       "      <td>Elsevier BV</td>\n",
       "      <td>Physical sciences, Astronomy</td>\n",
       "    </tr>\n",
       "    <tr>\n",
       "      <td>...</td>\n",
       "      <td>...</td>\n",
       "      <td>...</td>\n",
       "      <td>...</td>\n",
       "      <td>...</td>\n",
       "      <td>...</td>\n",
       "      <td>...</td>\n",
       "      <td>...</td>\n",
       "      <td>...</td>\n",
       "      <td>...</td>\n",
       "      <td>...</td>\n",
       "      <td>...</td>\n",
       "      <td>...</td>\n",
       "    </tr>\n",
       "    <tr>\n",
       "      <td>15751</td>\n",
       "      <td>10.1002/9781119427896.ch8</td>\n",
       "      <td>closed</td>\n",
       "      <td>False</td>\n",
       "      <td>Polyphenols from Plant Roots</td>\n",
       "      <td>2019-01-11</td>\n",
       "      <td>2019.0</td>\n",
       "      <td>book-chapter</td>\n",
       "      <td>False</td>\n",
       "      <td>NaN</td>\n",
       "      <td>Recent Advances in Polyphenol Research</td>\n",
       "      <td>John Wiley &amp; Sons, Ltd</td>\n",
       "      <td>unknown</td>\n",
       "    </tr>\n",
       "    <tr>\n",
       "      <td>15752</td>\n",
       "      <td>10.1107/s1600576719014055</td>\n",
       "      <td>publisher;repository</td>\n",
       "      <td>True</td>\n",
       "      <td>Fat Chance! Probability from 0 to 1. By Benedi...</td>\n",
       "      <td>2019-11-08</td>\n",
       "      <td>2019.0</td>\n",
       "      <td>journal-article</td>\n",
       "      <td>False</td>\n",
       "      <td>1600-5767</td>\n",
       "      <td>Journal of Applied Crystallography</td>\n",
       "      <td>International Union of Crystallography (IUCr)</td>\n",
       "      <td>unknown</td>\n",
       "    </tr>\n",
       "    <tr>\n",
       "      <td>15753</td>\n",
       "      <td>10.1007/s00220-019-03431-6</td>\n",
       "      <td>repository</td>\n",
       "      <td>True</td>\n",
       "      <td>Conformally Covariant Bi-differential Operator...</td>\n",
       "      <td>2019-04-27</td>\n",
       "      <td>2019.0</td>\n",
       "      <td>journal-article</td>\n",
       "      <td>False</td>\n",
       "      <td>0010-3616,1432-0916</td>\n",
       "      <td>Communications in Mathematical Physics</td>\n",
       "      <td>Springer Science and Business Media LLC</td>\n",
       "      <td>unknown</td>\n",
       "    </tr>\n",
       "    <tr>\n",
       "      <td>15754</td>\n",
       "      <td>10.1111/1365-2478.12904</td>\n",
       "      <td>publisher</td>\n",
       "      <td>True</td>\n",
       "      <td>Effective utilization of seismic reflection te...</td>\n",
       "      <td>2019-12-30</td>\n",
       "      <td>2019.0</td>\n",
       "      <td>journal-article</td>\n",
       "      <td>False</td>\n",
       "      <td>0016-8025,1365-2478</td>\n",
       "      <td>Geophysical Prospecting</td>\n",
       "      <td>Wiley</td>\n",
       "      <td>unknown</td>\n",
       "    </tr>\n",
       "    <tr>\n",
       "      <td>15755</td>\n",
       "      <td>10.1163/24689300-05201007</td>\n",
       "      <td>closed</td>\n",
       "      <td>False</td>\n",
       "      <td>L’idée D’Université à L’heure des Démocraties ...</td>\n",
       "      <td>2019-11-15</td>\n",
       "      <td>2019.0</td>\n",
       "      <td>journal-article</td>\n",
       "      <td>False</td>\n",
       "      <td>0070-2749,2468-9300</td>\n",
       "      <td>Danish Yearbook of Philosophy</td>\n",
       "      <td>Brill</td>\n",
       "      <td>unknown</td>\n",
       "    </tr>\n",
       "  </tbody>\n",
       "</table>\n",
       "<p>15756 rows × 12 columns</p>\n",
       "</div>"
      ],
      "text/plain": [
       "                                  doi               oa_type  is_oa  \\\n",
       "0       10.1016/j.chemgeo.2016.10.031                closed  False   \n",
       "1           10.1186/s13601-016-0137-4  publisher;repository   True   \n",
       "2        10.1371/journal.pone.0168349  publisher;repository   True   \n",
       "3      10.1016/j.jpowsour.2016.10.037                closed  False   \n",
       "4      10.1016/j.jpowsour.2016.10.035                closed  False   \n",
       "...                               ...                   ...    ...   \n",
       "15751       10.1002/9781119427896.ch8                closed  False   \n",
       "15752       10.1107/s1600576719014055  publisher;repository   True   \n",
       "15753      10.1007/s00220-019-03431-6            repository   True   \n",
       "15754         10.1111/1365-2478.12904             publisher   True   \n",
       "15755       10.1163/24689300-05201007                closed  False   \n",
       "\n",
       "                                                   title published_date  \\\n",
       "0      Zinc isotope fractionation during adsorption t...     2016-12-01   \n",
       "1      ARIA 2016: Care pathways implementing emerging...     2016-12-01   \n",
       "2      Prediction of Left Ventricular Remodeling afte...     2016-12-30   \n",
       "3      A critical review on gas diffusion micro and m...     2016-12-01   \n",
       "4      Decohesion and rupture mechanisms of a multila...     2016-12-01   \n",
       "...                                                  ...            ...   \n",
       "15751                       Polyphenols from Plant Roots     2019-01-11   \n",
       "15752  Fat Chance! Probability from 0 to 1. By Benedi...     2019-11-08   \n",
       "15753  Conformally Covariant Bi-differential Operator...     2019-04-27   \n",
       "15754  Effective utilization of seismic reflection te...     2019-12-30   \n",
       "15755  L’idée D’Université à L’heure des Démocraties ...     2019-11-15   \n",
       "\n",
       "       published_year            genre journal_is_in_doaj  \\\n",
       "0              2016.0  journal-article              False   \n",
       "1              2016.0  journal-article               True   \n",
       "2              2016.0  journal-article               True   \n",
       "3              2016.0  journal-article              False   \n",
       "4              2016.0  journal-article              False   \n",
       "...               ...              ...                ...   \n",
       "15751          2019.0     book-chapter              False   \n",
       "15752          2019.0  journal-article              False   \n",
       "15753          2019.0  journal-article              False   \n",
       "15754          2019.0  journal-article              False   \n",
       "15755          2019.0  journal-article              False   \n",
       "\n",
       "             journal_issns                            journal_name  \\\n",
       "0                0009-2541                        Chemical Geology   \n",
       "1                2045-7022      Clinical and Translational Allergy   \n",
       "2                1932-6203                                PLOS ONE   \n",
       "3                0378-7753                Journal of Power Sources   \n",
       "4                0378-7753                Journal of Power Sources   \n",
       "...                    ...                                     ...   \n",
       "15751                  NaN  Recent Advances in Polyphenol Research   \n",
       "15752            1600-5767      Journal of Applied Crystallography   \n",
       "15753  0010-3616,1432-0916  Communications in Mathematical Physics   \n",
       "15754  0016-8025,1365-2478                 Geophysical Prospecting   \n",
       "15755  0070-2749,2468-9300           Danish Yearbook of Philosophy   \n",
       "\n",
       "                                           publisher  \\\n",
       "0                                        Elsevier BV   \n",
       "1            Springer Science and Business Media LLC   \n",
       "2                   Public Library of Science (PLoS)   \n",
       "3                                        Elsevier BV   \n",
       "4                                        Elsevier BV   \n",
       "...                                              ...   \n",
       "15751                         John Wiley & Sons, Ltd   \n",
       "15752  International Union of Crystallography (IUCr)   \n",
       "15753        Springer Science and Business Media LLC   \n",
       "15754                                          Wiley   \n",
       "15755                                          Brill   \n",
       "\n",
       "                   scientific_field  \n",
       "0                           unknown  \n",
       "1                  Medical research  \n",
       "2                  Medical research  \n",
       "3                       Engineering  \n",
       "4      Physical sciences, Astronomy  \n",
       "...                             ...  \n",
       "15751                       unknown  \n",
       "15752                       unknown  \n",
       "15753                       unknown  \n",
       "15754                       unknown  \n",
       "15755                       unknown  \n",
       "\n",
       "[15756 rows x 12 columns]"
      ]
     },
     "execution_count": 9,
     "metadata": {},
     "output_type": "execute_result"
    }
   ],
   "source": [
    "df_complete"
   ]
  },
  {
   "cell_type": "markdown",
   "metadata": {},
   "source": [
    "Les publications de l'Université de Lorraine ont été enrichies par l'ajout du champ \"scientific field\" produit par le Ministère. En revanche, les données lorraines couvrent la période 2016-2019, alors que le Baromètre s'arrête en 2018 : l'information du domaine disciplinaire sera donc absente pour l'année 2019. "
   ]
  },
  {
   "cell_type": "code",
   "execution_count": 10,
   "metadata": {},
   "outputs": [],
   "source": [
    "df_complete.to_csv(\"Data/outputs/publis_lorraine_completes\",index=False)"
   ]
  },
  {
   "cell_type": "code",
   "execution_count": 11,
   "metadata": {},
   "outputs": [
    {
     "name": "stdout",
     "output_type": "stream",
     "text": [
      "Index(['doi', 'oa_type', 'is_oa', 'title', 'published_date', 'published_year',\n",
      "       'genre', 'journal_is_in_doaj', 'journal_issns', 'journal_name',\n",
      "       'publisher', 'scientific_field'],\n",
      "      dtype='object')\n"
     ]
    }
   ],
   "source": [
    "print(df_complete.columns)"
   ]
  },
  {
   "cell_type": "markdown",
   "metadata": {},
   "source": [
    "## Générer les graphiques"
   ]
  },
  {
   "cell_type": "markdown",
   "metadata": {},
   "source": [
    "### Importer les libraires nécessaires"
   ]
  },
  {
   "cell_type": "code",
   "execution_count": 12,
   "metadata": {},
   "outputs": [],
   "source": [
    "%matplotlib inline\n",
    "import pandas as pd\n",
    "import matplotlib.pyplot as plt\n",
    "import numpy as np"
   ]
  },
  {
   "cell_type": "markdown",
   "metadata": {},
   "source": [
    "### Proportion des publications 2018 en accès ouvert (mesuré en 2020)"
   ]
  },
  {
   "cell_type": "markdown",
   "metadata": {},
   "source": [
    "Déterminer les données qui vont être utilisées pour réaliser le graphique : compter le nombre de publications parues en 2018 et les isoler dans la variable \"pie_data\". Bien que réalisé en 2020, il est plus pertinent d'utiliser les données 2018 que les données 2019 pour ce graphique. En effet, les délais d'embargos pouvant monter jusqu'à 12 mois ne permettent pas de juger en 2020 la réelle ouverture des publications de l'année précédente."
   ]
  },
  {
   "cell_type": "code",
   "execution_count": 13,
   "metadata": {},
   "outputs": [
    {
     "data": {
      "text/plain": [
       "3807"
      ]
     },
     "execution_count": 13,
     "metadata": {},
     "output_type": "execute_result"
    }
   ],
   "source": [
    "(df_complete['published_year'] == 2018.0).sum()"
   ]
  },
  {
   "cell_type": "code",
   "execution_count": 14,
   "metadata": {},
   "outputs": [
    {
     "data": {
      "text/html": [
       "<div>\n",
       "<style scoped>\n",
       "    .dataframe tbody tr th:only-of-type {\n",
       "        vertical-align: middle;\n",
       "    }\n",
       "\n",
       "    .dataframe tbody tr th {\n",
       "        vertical-align: top;\n",
       "    }\n",
       "\n",
       "    .dataframe thead th {\n",
       "        text-align: right;\n",
       "    }\n",
       "</style>\n",
       "<table border=\"1\" class=\"dataframe\">\n",
       "  <thead>\n",
       "    <tr style=\"text-align: right;\">\n",
       "      <th></th>\n",
       "      <th>doi</th>\n",
       "      <th>oa_type</th>\n",
       "      <th>is_oa</th>\n",
       "      <th>title</th>\n",
       "      <th>published_date</th>\n",
       "      <th>published_year</th>\n",
       "      <th>genre</th>\n",
       "      <th>journal_is_in_doaj</th>\n",
       "      <th>journal_issns</th>\n",
       "      <th>journal_name</th>\n",
       "      <th>publisher</th>\n",
       "      <th>scientific_field</th>\n",
       "    </tr>\n",
       "  </thead>\n",
       "  <tbody>\n",
       "    <tr>\n",
       "      <td>4814</td>\n",
       "      <td>10.13053/cys-21-4-2857</td>\n",
       "      <td>repository</td>\n",
       "      <td>True</td>\n",
       "      <td>Proving Distributed Coloring of Forests in Dyn...</td>\n",
       "      <td>2018-01-01</td>\n",
       "      <td>2018.0</td>\n",
       "      <td>journal-article</td>\n",
       "      <td>False</td>\n",
       "      <td>2007-9737,1405-5546</td>\n",
       "      <td>Computación y Sistemas</td>\n",
       "      <td>Instituto Politecnico Nacional/Centro de Inves...</td>\n",
       "      <td>unknown</td>\n",
       "    </tr>\n",
       "    <tr>\n",
       "      <td>4972</td>\n",
       "      <td>10.17738/ajes.2017.0016</td>\n",
       "      <td>publisher;repository</td>\n",
       "      <td>True</td>\n",
       "      <td>The Anina (Steierdorf) coal mining district in...</td>\n",
       "      <td>2018-01-01</td>\n",
       "      <td>2018.0</td>\n",
       "      <td>journal-article</td>\n",
       "      <td>False</td>\n",
       "      <td>0251-7493,2072-7151</td>\n",
       "      <td>Austrian Journal of Earth Sciences</td>\n",
       "      <td>Austrian Geological Society (OGG)</td>\n",
       "      <td>unknown</td>\n",
       "    </tr>\n",
       "    <tr>\n",
       "      <td>5071</td>\n",
       "      <td>10.2174/1570179414666170601121832</td>\n",
       "      <td>closed</td>\n",
       "      <td>False</td>\n",
       "      <td>Biologically Active Selenophenes and Benzo[b]s...</td>\n",
       "      <td>2018-02-08</td>\n",
       "      <td>2018.0</td>\n",
       "      <td>journal-article</td>\n",
       "      <td>False</td>\n",
       "      <td>1570-1794</td>\n",
       "      <td>Current Organic Synthesis</td>\n",
       "      <td>Bentham Science Publishers Ltd.</td>\n",
       "      <td>Chemistry</td>\n",
       "    </tr>\n",
       "    <tr>\n",
       "      <td>5083</td>\n",
       "      <td>10.4000/eps.7253</td>\n",
       "      <td>publisher</td>\n",
       "      <td>True</td>\n",
       "      <td>L'impact territorial des pratiques des travail...</td>\n",
       "      <td>2018-01-25</td>\n",
       "      <td>2018.0</td>\n",
       "      <td>journal-article</td>\n",
       "      <td>True</td>\n",
       "      <td>0755-7809,2104-3752</td>\n",
       "      <td>Espace populations sociétés</td>\n",
       "      <td>OpenEdition</td>\n",
       "      <td>Social sciences</td>\n",
       "    </tr>\n",
       "    <tr>\n",
       "      <td>5084</td>\n",
       "      <td>10.4000/eps.7239</td>\n",
       "      <td>publisher;repository</td>\n",
       "      <td>True</td>\n",
       "      <td>Déterminants individuels et territoriaux des n...</td>\n",
       "      <td>2018-01-25</td>\n",
       "      <td>2018.0</td>\n",
       "      <td>journal-article</td>\n",
       "      <td>True</td>\n",
       "      <td>0755-7809,2104-3752</td>\n",
       "      <td>Espace populations sociétés</td>\n",
       "      <td>OpenEdition</td>\n",
       "      <td>Social sciences</td>\n",
       "    </tr>\n",
       "    <tr>\n",
       "      <td>...</td>\n",
       "      <td>...</td>\n",
       "      <td>...</td>\n",
       "      <td>...</td>\n",
       "      <td>...</td>\n",
       "      <td>...</td>\n",
       "      <td>...</td>\n",
       "      <td>...</td>\n",
       "      <td>...</td>\n",
       "      <td>...</td>\n",
       "      <td>...</td>\n",
       "      <td>...</td>\n",
       "      <td>...</td>\n",
       "    </tr>\n",
       "    <tr>\n",
       "      <td>15248</td>\n",
       "      <td>10.1109/codit.2018.8394895</td>\n",
       "      <td>closed</td>\n",
       "      <td>False</td>\n",
       "      <td>An Optimal Integrated Maintenance to productio...</td>\n",
       "      <td>2018-04-01</td>\n",
       "      <td>2018.0</td>\n",
       "      <td>proceedings-article</td>\n",
       "      <td>False</td>\n",
       "      <td>NaN</td>\n",
       "      <td>2018 5th International Conference on Control, ...</td>\n",
       "      <td>IEEE</td>\n",
       "      <td>Computer and \\n information sciences</td>\n",
       "    </tr>\n",
       "    <tr>\n",
       "      <td>15249</td>\n",
       "      <td>10.1007/978-3-030-05432-8_2</td>\n",
       "      <td>closed</td>\n",
       "      <td>False</td>\n",
       "      <td>Theory in Singularly Perturbed Geometrical Dom...</td>\n",
       "      <td>2018-12-29</td>\n",
       "      <td>2018.0</td>\n",
       "      <td>book-chapter</td>\n",
       "      <td>False</td>\n",
       "      <td>2198-4182,2198-4190</td>\n",
       "      <td>Studies in Systems, Decision and Control</td>\n",
       "      <td>Springer International Publishing</td>\n",
       "      <td>Computer and \\n information sciences</td>\n",
       "    </tr>\n",
       "    <tr>\n",
       "      <td>15250</td>\n",
       "      <td>10.5752/p.2358-3428.2018v22n45p37-54</td>\n",
       "      <td>publisher;repository</td>\n",
       "      <td>True</td>\n",
       "      <td>#JeSuisCharlie &amp; #PeaceForParis: Appropriation...</td>\n",
       "      <td>2018-10-31</td>\n",
       "      <td>2018.0</td>\n",
       "      <td>journal-article</td>\n",
       "      <td>True</td>\n",
       "      <td>2358-3428,1516-4039</td>\n",
       "      <td>Scripta</td>\n",
       "      <td>Pontificia Universidade Catolica de Minas Gerais</td>\n",
       "      <td>Humanities</td>\n",
       "    </tr>\n",
       "    <tr>\n",
       "      <td>15252</td>\n",
       "      <td>10.2210/pdb6hin/pdb</td>\n",
       "      <td>closed</td>\n",
       "      <td>False</td>\n",
       "      <td>Mouse serotonin 5-HT3 receptor, serotonin-boun...</td>\n",
       "      <td>2018-11-07</td>\n",
       "      <td>2018.0</td>\n",
       "      <td>component</td>\n",
       "      <td>False</td>\n",
       "      <td>NaN</td>\n",
       "      <td>NaN</td>\n",
       "      <td>Worldwide Protein Data Bank</td>\n",
       "      <td>unknown</td>\n",
       "    </tr>\n",
       "    <tr>\n",
       "      <td>15500</td>\n",
       "      <td>10.1007/978-3-319-73915-1_2</td>\n",
       "      <td>repository</td>\n",
       "      <td>True</td>\n",
       "      <td>On the Edge-Length Ratio of Outerplanar Graphs</td>\n",
       "      <td>2018-01-01</td>\n",
       "      <td>2018.0</td>\n",
       "      <td>book-chapter</td>\n",
       "      <td>False</td>\n",
       "      <td>0302-9743,1611-3349</td>\n",
       "      <td>Graph Drawing and Network Visualization</td>\n",
       "      <td>Springer International Publishing</td>\n",
       "      <td>Mathematics</td>\n",
       "    </tr>\n",
       "  </tbody>\n",
       "</table>\n",
       "<p>3807 rows × 12 columns</p>\n",
       "</div>"
      ],
      "text/plain": [
       "                                        doi               oa_type  is_oa  \\\n",
       "4814                 10.13053/cys-21-4-2857            repository   True   \n",
       "4972                10.17738/ajes.2017.0016  publisher;repository   True   \n",
       "5071      10.2174/1570179414666170601121832                closed  False   \n",
       "5083                       10.4000/eps.7253             publisher   True   \n",
       "5084                       10.4000/eps.7239  publisher;repository   True   \n",
       "...                                     ...                   ...    ...   \n",
       "15248            10.1109/codit.2018.8394895                closed  False   \n",
       "15249           10.1007/978-3-030-05432-8_2                closed  False   \n",
       "15250  10.5752/p.2358-3428.2018v22n45p37-54  publisher;repository   True   \n",
       "15252                   10.2210/pdb6hin/pdb                closed  False   \n",
       "15500           10.1007/978-3-319-73915-1_2            repository   True   \n",
       "\n",
       "                                                   title published_date  \\\n",
       "4814   Proving Distributed Coloring of Forests in Dyn...     2018-01-01   \n",
       "4972   The Anina (Steierdorf) coal mining district in...     2018-01-01   \n",
       "5071   Biologically Active Selenophenes and Benzo[b]s...     2018-02-08   \n",
       "5083   L'impact territorial des pratiques des travail...     2018-01-25   \n",
       "5084   Déterminants individuels et territoriaux des n...     2018-01-25   \n",
       "...                                                  ...            ...   \n",
       "15248  An Optimal Integrated Maintenance to productio...     2018-04-01   \n",
       "15249  Theory in Singularly Perturbed Geometrical Dom...     2018-12-29   \n",
       "15250  #JeSuisCharlie & #PeaceForParis: Appropriation...     2018-10-31   \n",
       "15252  Mouse serotonin 5-HT3 receptor, serotonin-boun...     2018-11-07   \n",
       "15500     On the Edge-Length Ratio of Outerplanar Graphs     2018-01-01   \n",
       "\n",
       "       published_year                genre journal_is_in_doaj  \\\n",
       "4814           2018.0      journal-article              False   \n",
       "4972           2018.0      journal-article              False   \n",
       "5071           2018.0      journal-article              False   \n",
       "5083           2018.0      journal-article               True   \n",
       "5084           2018.0      journal-article               True   \n",
       "...               ...                  ...                ...   \n",
       "15248          2018.0  proceedings-article              False   \n",
       "15249          2018.0         book-chapter              False   \n",
       "15250          2018.0      journal-article               True   \n",
       "15252          2018.0            component              False   \n",
       "15500          2018.0         book-chapter              False   \n",
       "\n",
       "             journal_issns                                       journal_name  \\\n",
       "4814   2007-9737,1405-5546                             Computación y Sistemas   \n",
       "4972   0251-7493,2072-7151                 Austrian Journal of Earth Sciences   \n",
       "5071             1570-1794                          Current Organic Synthesis   \n",
       "5083   0755-7809,2104-3752                        Espace populations sociétés   \n",
       "5084   0755-7809,2104-3752                        Espace populations sociétés   \n",
       "...                    ...                                                ...   \n",
       "15248                  NaN  2018 5th International Conference on Control, ...   \n",
       "15249  2198-4182,2198-4190           Studies in Systems, Decision and Control   \n",
       "15250  2358-3428,1516-4039                                            Scripta   \n",
       "15252                  NaN                                                NaN   \n",
       "15500  0302-9743,1611-3349            Graph Drawing and Network Visualization   \n",
       "\n",
       "                                               publisher  \\\n",
       "4814   Instituto Politecnico Nacional/Centro de Inves...   \n",
       "4972                   Austrian Geological Society (OGG)   \n",
       "5071                     Bentham Science Publishers Ltd.   \n",
       "5083                                         OpenEdition   \n",
       "5084                                         OpenEdition   \n",
       "...                                                  ...   \n",
       "15248                                               IEEE   \n",
       "15249                  Springer International Publishing   \n",
       "15250   Pontificia Universidade Catolica de Minas Gerais   \n",
       "15252                        Worldwide Protein Data Bank   \n",
       "15500                  Springer International Publishing   \n",
       "\n",
       "                           scientific_field  \n",
       "4814                                unknown  \n",
       "4972                                unknown  \n",
       "5071                              Chemistry  \n",
       "5083                        Social sciences  \n",
       "5084                        Social sciences  \n",
       "...                                     ...  \n",
       "15248  Computer and \\n information sciences  \n",
       "15249  Computer and \\n information sciences  \n",
       "15250                            Humanities  \n",
       "15252                               unknown  \n",
       "15500                           Mathematics  \n",
       "\n",
       "[3807 rows x 12 columns]"
      ]
     },
     "execution_count": 14,
     "metadata": {},
     "output_type": "execute_result"
    }
   ],
   "source": [
    "pie_data = df_complete.loc[df_complete['published_year'] == 2018.0,:]\n",
    "pie_data"
   ]
  },
  {
   "cell_type": "markdown",
   "metadata": {},
   "source": [
    "Définir les deux niveaux dans le graphique : accès ouvert ou non (variable \"oa_yes_no\"), type d'accès ouvert (variable \"type_oa\")"
   ]
  },
  {
   "cell_type": "code",
   "execution_count": 15,
   "metadata": {},
   "outputs": [
    {
     "data": {
      "text/plain": [
       "Accès fermé global     1805\n",
       "Accès ouvert global    2002\n",
       "Name: is_oa, dtype: int64"
      ]
     },
     "execution_count": 15,
     "metadata": {},
     "output_type": "execute_result"
    }
   ],
   "source": [
    "oa_yes_no = pie_data['is_oa'].value_counts().sort_index()\n",
    "oa_yes_no = oa_yes_no.rename({False: 'Accès fermé global', True: 'Accès ouvert global'})\n",
    "oa_yes_no"
   ]
  },
  {
   "cell_type": "code",
   "execution_count": 16,
   "metadata": {},
   "outputs": [
    {
     "data": {
      "text/plain": [
       "Accès fermé                  1805\n",
       "Editeur                       410\n",
       "Editeur & Archive ouverte     719\n",
       "Archive ouverte               873\n",
       "Name: oa_type, dtype: int64"
      ]
     },
     "execution_count": 16,
     "metadata": {},
     "output_type": "execute_result"
    }
   ],
   "source": [
    "type_oa = pie_data['oa_type'].value_counts().sort_index()\n",
    "type_oa = type_oa.rename({'closed': 'Accès fermé', 'publisher' : \"Editeur\", 'publisher;repository' : 'Editeur & Archive ouverte', \n",
    "                         'repository' : 'Archive ouverte'})\n",
    "type_oa"
   ]
  },
  {
   "cell_type": "code",
   "execution_count": 17,
   "metadata": {},
   "outputs": [
    {
     "data": {
      "image/png": "[encoded data removed]",
      "text/plain": [
       "<Figure size 432x288 with 1 Axes>"
      ]
     },
     "metadata": {},
     "output_type": "display_data"
    }
   ],
   "source": [
    "fig, ax = plt.subplots()\n",
    "ax.set_aspect('equal')\n",
    "ax.pie(oa_yes_no, labels=oa_yes_no.index, radius=3, labeldistance = None, colors=['tomato', 'springgreen'], autopct=lambda x: str(round(x, 1)) + '%', pctdistance = 0.9, shadow = True);\n",
    "ax.pie(type_oa, labels=type_oa.index, radius=2.3, labeldistance = None, colors=['firebrick','gold','greenyellow','seagreen'], autopct=lambda x: str(round(x, 1)) + '%', \n",
    "       pctdistance = 0.9);\n",
    "ax.pie([1], radius=1.8, colors='white');\n",
    "ax.legend(loc=\"center\")\n",
    "plt.title('Proportion des publications 2018 en accès ouvert (mesuré en 2020)', fontsize = 20, x = 0.55, y = 1.8,\n",
    "          fontweight = 'bold', alpha = 0.6)\n",
    "plt.savefig('Data/outputs/proportion_publications_oa.png', bbox_inches='tight', pad_inches=0.9)"
   ]
  },
  {
   "cell_type": "markdown",
   "metadata": {},
   "source": [
    "### Evolution du taux d'accès ouvert aux publications 2016-2019"
   ]
  },
  {
   "cell_type": "code",
   "execution_count": 29,
   "metadata": {},
   "outputs": [],
   "source": [
    "df_complete_20162019 = df_complete.loc[(df_complete['published_year'] == 2016.0) | (df_complete['published_year'] == 2017.0) \n",
    "                                       | (df_complete['published_year'] == 2018.0) | (df_complete['published_year'] == 2019.0),:]"
   ]
  },
  {
   "cell_type": "code",
   "execution_count": 50,
   "metadata": {},
   "outputs": [
    {
     "data": {
      "text/plain": [
       "15040"
      ]
     },
     "execution_count": 50,
     "metadata": {},
     "output_type": "execute_result"
    }
   ],
   "source": [
    "len(df_complete_20162019)"
   ]
  },
  {
   "cell_type": "markdown",
   "metadata": {},
   "source": [
    "**Nombre de publications en accès \"Editeur\"**"
   ]
  },
  {
   "cell_type": "code",
   "execution_count": 30,
   "metadata": {},
   "outputs": [
    {
     "data": {
      "text/plain": [
       "published_year\n",
       "2016.0    340\n",
       "2017.0    456\n",
       "2018.0    410\n",
       "2019.0    363\n",
       "Name: published_year, dtype: int64"
      ]
     },
     "execution_count": 30,
     "metadata": {},
     "output_type": "execute_result"
    }
   ],
   "source": [
    "publisher_oa = df_complete_20162019.loc[df_complete['oa_type'] == 'publisher'].groupby('published_year')['published_year'].count()\n",
    "publisher_oa"
   ]
  },
  {
   "cell_type": "markdown",
   "metadata": {},
   "source": [
    "**Nombre de publications en accès \"Editeur & Archive ouverte\"**"
   ]
  },
  {
   "cell_type": "code",
   "execution_count": 32,
   "metadata": {},
   "outputs": [
    {
     "data": {
      "text/plain": [
       "published_year\n",
       "2016.0    556\n",
       "2017.0    643\n",
       "2018.0    719\n",
       "2019.0    607\n",
       "Name: published_year, dtype: int64"
      ]
     },
     "execution_count": 32,
     "metadata": {},
     "output_type": "execute_result"
    }
   ],
   "source": [
    "publisher_repo_oa = df_complete_20162019.loc[df_complete['oa_type'] == 'publisher;repository'].groupby('published_year')['published_year'].count()\n",
    "publisher_repo_oa"
   ]
  },
  {
   "cell_type": "markdown",
   "metadata": {},
   "source": [
    "**Nombre de publications en accès \"Archive ouverte\"**"
   ]
  },
  {
   "cell_type": "code",
   "execution_count": 33,
   "metadata": {},
   "outputs": [
    {
     "data": {
      "text/plain": [
       "published_year\n",
       "2016.0    728\n",
       "2017.0    890\n",
       "2018.0    873\n",
       "2019.0    690\n",
       "Name: published_year, dtype: int64"
      ]
     },
     "execution_count": 33,
     "metadata": {},
     "output_type": "execute_result"
    }
   ],
   "source": [
    "repo_oa = df_complete_20162019.loc[df_complete['oa_type'] == 'repository'].groupby('published_year')['published_year'].count()\n",
    "repo_oa"
   ]
  },
  {
   "cell_type": "markdown",
   "metadata": {},
   "source": [
    "**Rassembler ces informations pour produire une DataFrame qui servira à faire le graphique**"
   ]
  },
  {
   "cell_type": "code",
   "execution_count": 37,
   "metadata": {},
   "outputs": [
    {
     "data": {
      "text/html": [
       "<div>\n",
       "<style scoped>\n",
       "    .dataframe tbody tr th:only-of-type {\n",
       "        vertical-align: middle;\n",
       "    }\n",
       "\n",
       "    .dataframe tbody tr th {\n",
       "        vertical-align: top;\n",
       "    }\n",
       "\n",
       "    .dataframe thead th {\n",
       "        text-align: right;\n",
       "    }\n",
       "</style>\n",
       "<table border=\"1\" class=\"dataframe\">\n",
       "  <thead>\n",
       "    <tr style=\"text-align: right;\">\n",
       "      <th></th>\n",
       "      <th>Editeur</th>\n",
       "      <th>Editeur &amp; Archive ouverte</th>\n",
       "      <th>Archive ouverte</th>\n",
       "    </tr>\n",
       "  </thead>\n",
       "  <tbody>\n",
       "    <tr>\n",
       "      <td>2016</td>\n",
       "      <td>340</td>\n",
       "      <td>556</td>\n",
       "      <td>728</td>\n",
       "    </tr>\n",
       "    <tr>\n",
       "      <td>2017</td>\n",
       "      <td>456</td>\n",
       "      <td>643</td>\n",
       "      <td>890</td>\n",
       "    </tr>\n",
       "    <tr>\n",
       "      <td>2018</td>\n",
       "      <td>410</td>\n",
       "      <td>719</td>\n",
       "      <td>873</td>\n",
       "    </tr>\n",
       "    <tr>\n",
       "      <td>2019</td>\n",
       "      <td>363</td>\n",
       "      <td>607</td>\n",
       "      <td>690</td>\n",
       "    </tr>\n",
       "  </tbody>\n",
       "</table>\n",
       "</div>"
      ],
      "text/plain": [
       "      Editeur  Editeur & Archive ouverte  Archive ouverte\n",
       "2016      340                        556              728\n",
       "2017      456                        643              890\n",
       "2018      410                        719              873\n",
       "2019      363                        607              690"
      ]
     },
     "execution_count": 37,
     "metadata": {},
     "output_type": "execute_result"
    }
   ],
   "source": [
    "evolution_oa_df = pd.DataFrame(data={'Editeur': publisher_oa, 'Editeur & Archive ouverte': publisher_repo_oa, 'Archive ouverte': repo_oa})\n",
    "evolution_oa_df.index = ['2016', '2017', '2018', '2019']\n",
    "evolution_oa_df"
   ]
  },
  {
   "cell_type": "markdown",
   "metadata": {},
   "source": [
    "**Calculer le pourcentage de publications en accès ouvert par an**"
   ]
  },
  {
   "cell_type": "code",
   "execution_count": 59,
   "metadata": {},
   "outputs": [
    {
     "data": {
      "text/plain": [
       "published_year\n",
       "2016.0    1624\n",
       "2017.0    1989\n",
       "2018.0    2002\n",
       "2019.0    1660\n",
       "Name: published_year, dtype: int64"
      ]
     },
     "execution_count": 59,
     "metadata": {},
     "output_type": "execute_result"
    }
   ],
   "source": [
    "oa_yes = df_complete_20162019.loc[df_complete['is_oa'] == True].groupby('published_year')['published_year'].count()\n",
    "oa_yes"
   ]
  },
  {
   "cell_type": "code",
   "execution_count": 62,
   "metadata": {},
   "outputs": [
    {
     "data": {
      "text/html": [
       "<div>\n",
       "<style scoped>\n",
       "    .dataframe tbody tr th:only-of-type {\n",
       "        vertical-align: middle;\n",
       "    }\n",
       "\n",
       "    .dataframe tbody tr th {\n",
       "        vertical-align: top;\n",
       "    }\n",
       "\n",
       "    .dataframe thead th {\n",
       "        text-align: right;\n",
       "    }\n",
       "</style>\n",
       "<table border=\"1\" class=\"dataframe\">\n",
       "  <thead>\n",
       "    <tr style=\"text-align: right;\">\n",
       "      <th></th>\n",
       "      <th>Accès ouvert</th>\n",
       "    </tr>\n",
       "  </thead>\n",
       "  <tbody>\n",
       "    <tr>\n",
       "      <td>2016</td>\n",
       "      <td>1624</td>\n",
       "    </tr>\n",
       "    <tr>\n",
       "      <td>2017</td>\n",
       "      <td>1989</td>\n",
       "    </tr>\n",
       "    <tr>\n",
       "      <td>2018</td>\n",
       "      <td>2002</td>\n",
       "    </tr>\n",
       "    <tr>\n",
       "      <td>2019</td>\n",
       "      <td>1660</td>\n",
       "    </tr>\n",
       "  </tbody>\n",
       "</table>\n",
       "</div>"
      ],
      "text/plain": [
       "      Accès ouvert\n",
       "2016          1624\n",
       "2017          1989\n",
       "2018          2002\n",
       "2019          1660"
      ]
     },
     "execution_count": 62,
     "metadata": {},
     "output_type": "execute_result"
    }
   ],
   "source": [
    "oa_df = pd.DataFrame(data={'Accès ouvert': oa_yes})\n",
    "oa_df.index = ['2016', '2017', '2018', '2019']\n",
    "oa_df"
   ]
  },
  {
   "cell_type": "code",
   "execution_count": 55,
   "metadata": {},
   "outputs": [
    {
     "data": {
      "image/png": "[encoded data removed]",
      "text/plain": [
       "<Figure size 864x576 with 1 Axes>"
      ]
     },
     "metadata": {
      "needs_background": "light"
     },
     "output_type": "display_data"
    }
   ],
   "source": [
    "ax = evolution_oa_df.plot(stacked=True, kind='bar', figsize=(12, 8), color=['gold','greenyellow','seagreen'], rot='horizontal')\n",
    " \n",
    "for rect in ax.patches:\n",
    "    height = rect.get_height()\n",
    "    width = rect.get_width()\n",
    "    x = rect.get_x()\n",
    "    y = rect.get_y()\n",
    "\n",
    "    label_text = f'{height:.0f}'\n",
    "\n",
    "    label_x = x + width - 0.2\n",
    "    label_y = y + height / 2\n",
    "    ax.text(label_x, label_y, label_text, ha='right', va='center', fontsize=8)\n",
    "\n",
    "ax.legend(bbox_to_anchor=(1.05, 1), loc='upper left', borderaxespad=0.)    \n",
    "ax.set_ylabel(\"Propotions par type d'accès ouvert\", fontsize=18)\n",
    "ax.set_xlabel(\"Evolution par année\", fontsize=18)\n",
    "\n",
    "plt.title(\"Evolution du taux d'accès ouvert aux publications 2016-2019\", fontsize = 20, x = 0.55, y = 1.1,\n",
    "          fontweight = 'bold', alpha = 0.6)\n",
    "plt.savefig('Data/outputs/evolution_oa_annees.png', bbox_inches='tight', pad_inches=0.9)"
   ]
  },
  {
   "cell_type": "markdown",
   "metadata": {},
   "source": [
    "### Taux d'accès ouvert aux publications 2018 par discipline (calculé en 2020)"
   ]
  },
  {
   "cell_type": "markdown",
   "metadata": {},
   "source": [
    "Les données du Baromètre n'étant pas encore mise à jour, le taux par discipline pour 2019 ne peut pas encore être visualisé."
   ]
  },
  {
   "cell_type": "code",
   "execution_count": null,
   "metadata": {},
   "outputs": [],
   "source": []
  },
  {
   "cell_type": "markdown",
   "metadata": {},
   "source": [
    "### Taux d'accès ouvert aux publications 2019 par éditeur / préfixe DOI (calculé en 2020)"
   ]
  },
  {
   "cell_type": "code",
   "execution_count": null,
   "metadata": {},
   "outputs": [],
   "source": []
  },
  {
   "cell_type": "markdown",
   "metadata": {},
   "source": [
    "### Répartition des publications 2019 par genre et type d'accès (calculé en 2020)"
   ]
  },
  {
   "cell_type": "code",
   "execution_count": null,
   "metadata": {},
   "outputs": [],
   "source": []
  },
  {
   "cell_type": "code",
   "execution_count": null,
   "metadata": {},
   "outputs": [],
   "source": []
  }
 ],
 "metadata": {
  "kernelspec": {
   "display_name": "Python 3",
   "language": "python",
   "name": "python3"
  },
  "language_info": {
   "codemirror_mode": {
    "name": "ipython",
    "version": 3
   },
   "file_extension": ".py",
   "mimetype": "text/x-python",
   "name": "python",
   "nbconvert_exporter": "python",
   "pygments_lexer": "ipython3",
   "version": "3.7.4"
  }
 },
 "nbformat": 4,
 "nbformat_minor": 4
}
